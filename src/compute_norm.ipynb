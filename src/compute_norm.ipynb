{
 "cells": [
  {
   "cell_type": "code",
   "execution_count": 10,
   "metadata": {},
   "outputs": [],
   "source": [
    "import torch\n",
    "import numpy as np\n",
    "\n",
    "import dataloader\n",
    "\n",
    "import os\n",
    "import subprocess\n",
    "import socket\n"
   ]
  },
  {
   "cell_type": "code",
   "execution_count": 11,
   "metadata": {},
   "outputs": [],
   "source": [
    "\n",
    "curr_node = socket.gethostname().split('.')[0]\n",
    "batcmd=f\"squeue -u billyli | grep {curr_node}\"\n",
    "curr_slurm = subprocess.check_output(batcmd, shell=True, text=True)\n",
    "slurm_id = curr_slurm.strip().split(' ')[0]\n",
    "local = f\"/local/slurm-{slurm_id}/local/audio/data\""
   ]
  },
  {
   "cell_type": "code",
   "execution_count": 12,
   "metadata": {},
   "outputs": [
    {
     "name": "stdout",
     "output_type": "stream",
     "text": [
      "/local/slurm-7002045/local/audio/data\n"
     ]
    }
   ],
   "source": [
    "print(local)"
   ]
  },
  {
   "cell_type": "markdown",
   "metadata": {},
   "source": [
    "# set skip_norm as True only when you are computing the normalization stats"
   ]
  },
  {
   "cell_type": "raw",
   "metadata": {},
   "source": [
    "datafiles/audioset_bal_unbal_train_data.json"
   ]
  },
  {
   "cell_type": "code",
   "execution_count": 27,
   "metadata": {},
   "outputs": [
    {
     "name": "stdout",
     "output_type": "stream",
     "text": [
      "---------------the train dataloader---------------\n",
      "now using following mask: 12 freq, 75 time\n",
      "now using mix-up with rate 0.300000\n",
      "now process audioset_s\n",
      "now skip normalization (use it ONLY when you are computing the normalization stats).\n",
      "number of classes is 527\n"
     ]
    }
   ],
   "source": [
    "audio_conf = {'num_mel_bins': 64, 'target_length': 400, 'freqm': 12, 'timem': 75, 'mixup': 0.3, 'skip_norm': True, 'mode': 'train', 'dataset': 'audioset_s'}\n",
    "\n",
    "train_loader = torch.utils.data.DataLoader(\n",
    "    dataloader.AudiosetDataset(os.path.join(local,'datafiles/audioset_bal_train_data.json'), label_csv=os.path.join(local, 'class_labels_indices.csv'),\n",
    "                                audio_conf=audio_conf), batch_size=1000, shuffle=False, num_workers=8, pin_memory=True)"
   ]
  },
  {
   "cell_type": "code",
   "execution_count": 28,
   "metadata": {},
   "outputs": [],
   "source": [
    "# freqm 24 timem 75 mixup 0.5: -24.584522, 37.10214\n",
    "# freqm 12 timem 75 mixup 0.5: -27.248297 37.681698\n",
    "# freqm 12 timem 75 mixup 0.3: -29.072655 40.71728"
   ]
  },
  {
   "cell_type": "code",
   "execution_count": 29,
   "metadata": {},
   "outputs": [
    {
     "name": "stdout",
     "output_type": "stream",
     "text": [
      "0 tensor(-28.0840) tensor(40.3004)\n",
      "1 tensor(-28.3314) tensor(39.6950)\n",
      "2 tensor(-29.0218) tensor(40.9954)\n",
      "3 tensor(-28.4939) tensor(40.0333)\n",
      "4 tensor(-28.3425) tensor(39.2620)\n",
      "5 tensor(-29.0324) tensor(40.9685)\n",
      "6 tensor(-28.1318) tensor(38.8469)\n",
      "7 tensor(-28.6933) tensor(40.5430)\n",
      "8 tensor(-30.5314) tensor(42.6836)\n",
      "9 tensor(-29.2766) tensor(40.5451)\n",
      "10 tensor(-30.0800) tensor(41.9051)\n",
      "11 tensor(-30.0564) tensor(41.3779)\n",
      "12 tensor(-27.9741) tensor(40.5966)\n",
      "13 tensor(-30.2390) tensor(42.3808)\n",
      "14 tensor(-28.4573) tensor(40.4393)\n",
      "15 tensor(-29.6753) tensor(41.0759)\n",
      "16 tensor(-29.5836) tensor(40.4829)\n",
      "17 tensor(-30.0015) tensor(41.7981)\n",
      "18 tensor(-27.8636) tensor(38.4711)\n",
      "19 tensor(-29.8778) tensor(43.5212)\n",
      "20 tensor(-29.3021) tensor(41.5145)\n",
      "21 tensor(-28.5485) tensor(38.3433)\n",
      "-29.072655 40.71728\n"
     ]
    }
   ],
   "source": [
    "\n",
    "mean=[]\n",
    "std=[]\n",
    "for i, (audio_input, labels) in enumerate(train_loader):\n",
    "    cur_mean = torch.mean(audio_input)\n",
    "    cur_std = torch.std(audio_input)\n",
    "    mean.append(cur_mean)\n",
    "    std.append(cur_std)\n",
    "    print(i, cur_mean, cur_std)\n",
    "print(np.mean(mean), np.mean(std))"
   ]
  },
  {
   "cell_type": "code",
   "execution_count": null,
   "metadata": {},
   "outputs": [],
   "source": []
  }
 ],
 "metadata": {
  "kernelspec": {
   "display_name": "Python 3",
   "language": "python",
   "name": "python3"
  },
  "language_info": {
   "codemirror_mode": {
    "name": "ipython",
    "version": 3
   },
   "file_extension": ".py",
   "mimetype": "text/x-python",
   "name": "python",
   "nbconvert_exporter": "python",
   "pygments_lexer": "ipython3",
   "version": "3.8.5"
  }
 },
 "nbformat": 4,
 "nbformat_minor": 4
}
